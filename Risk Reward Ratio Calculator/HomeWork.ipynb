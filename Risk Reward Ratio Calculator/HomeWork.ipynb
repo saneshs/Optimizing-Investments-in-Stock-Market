{
 "cells": [
  {
   "cell_type": "code",
   "execution_count": 1,
   "id": "57f147aa-48d9-48d8-8652-7a87b8e46a3d",
   "metadata": {},
   "outputs": [],
   "source": [
    "# Importing required modules\n",
    "import pandas as pd\n",
    "import numpy as np\n",
    "\n",
    "# for data visualization\n",
    "import seaborn as sns\n",
    "import matplotlib.pyplot as plt\n",
    "\n",
    "# setting charts size and style\n",
    "plt.rcParams['figure.figsize'] = (15, 4)\n",
    "plt.style.use('fivethirtyeight')"
   ]
  },
  {
   "cell_type": "code",
   "execution_count": 2,
   "id": "cdb34046-9e48-4253-b58d-a2eca38c01c2",
   "metadata": {},
   "outputs": [],
   "source": [
    "import yfinance as yf"
   ]
  },
  {
   "cell_type": "code",
   "execution_count": 3,
   "id": "944565dd-f434-441d-89ff-15a598312023",
   "metadata": {},
   "outputs": [
    {
     "name": "stdout",
     "output_type": "stream",
     "text": [
      "Shape of the Dataset : (252, 6)\n"
     ]
    },
    {
     "data": {
      "text/plain": [
       "Date\n",
       "2016-12-23    39.544998\n",
       "2016-12-27    39.534000\n",
       "2016-12-28    39.685001\n",
       "2016-12-29    39.166500\n",
       "2016-12-30    39.137501\n",
       "Name: Open, dtype: float64"
      ]
     },
     "execution_count": 3,
     "metadata": {},
     "output_type": "execute_result"
    }
   ],
   "source": [
    "# lets fetch the data\n",
    "google = yf.download(tickers='GOOG',\n",
    "                     start='2016-01-04',\n",
    "                     end='2016-12-31',\n",
    "                     progress=False)\n",
    "\n",
    "# lets check the shape of the dataset\n",
    "print(\"Shape of the Dataset :\", google.shape)\n",
    "\n",
    "# lets check the head of the dataset\n",
    "google = google['Open']\n",
    "google.tail()"
   ]
  },
  {
   "cell_type": "code",
   "execution_count": 4,
   "id": "fa2a2e8f-ab4c-46d7-be7d-89240a94044c",
   "metadata": {},
   "outputs": [
    {
     "data": {
      "text/html": [
       "<div>\n",
       "<style scoped>\n",
       "    .dataframe tbody tr th:only-of-type {\n",
       "        vertical-align: middle;\n",
       "    }\n",
       "\n",
       "    .dataframe tbody tr th {\n",
       "        vertical-align: top;\n",
       "    }\n",
       "\n",
       "    .dataframe thead th {\n",
       "        text-align: right;\n",
       "    }\n",
       "</style>\n",
       "<table border=\"1\" class=\"dataframe\">\n",
       "  <thead>\n",
       "    <tr style=\"text-align: right;\">\n",
       "      <th></th>\n",
       "      <th>Amazon</th>\n",
       "    </tr>\n",
       "    <tr>\n",
       "      <th>Date</th>\n",
       "      <th></th>\n",
       "    </tr>\n",
       "  </thead>\n",
       "  <tbody>\n",
       "    <tr>\n",
       "      <th>2016-12-23</th>\n",
       "      <td>760.590027</td>\n",
       "    </tr>\n",
       "    <tr>\n",
       "      <th>2016-12-27</th>\n",
       "      <td>771.400024</td>\n",
       "    </tr>\n",
       "    <tr>\n",
       "      <th>2016-12-28</th>\n",
       "      <td>772.130005</td>\n",
       "    </tr>\n",
       "    <tr>\n",
       "      <th>2016-12-29</th>\n",
       "      <td>765.150024</td>\n",
       "    </tr>\n",
       "    <tr>\n",
       "      <th>2016-12-30</th>\n",
       "      <td>749.869995</td>\n",
       "    </tr>\n",
       "  </tbody>\n",
       "</table>\n",
       "</div>"
      ],
      "text/plain": [
       "                Amazon\n",
       "Date                  \n",
       "2016-12-23  760.590027\n",
       "2016-12-27  771.400024\n",
       "2016-12-28  772.130005\n",
       "2016-12-29  765.150024\n",
       "2016-12-30  749.869995"
      ]
     },
     "execution_count": 4,
     "metadata": {},
     "output_type": "execute_result"
    }
   ],
   "source": [
    "# lets get the stock data we have\n",
    "stock_data = pd.read_csv('stock_data.csv',\n",
    "                         parse_dates = True,\n",
    "                        index_col = ['Date'])\n",
    "\n",
    "# lets remove facebook from our data\n",
    "amazon = stock_data.drop(['Facebook'], axis = 1)\n",
    "amazon.tail()"
   ]
  },
  {
   "cell_type": "code",
   "execution_count": 5,
   "id": "7d8b583c-8e6f-4749-8e75-ae7c74db3ffd",
   "metadata": {},
   "outputs": [
    {
     "name": "stdout",
     "output_type": "stream",
     "text": [
      "Shape of the Dataset : (252, 2)\n"
     ]
    },
    {
     "data": {
      "text/html": [
       "<div>\n",
       "<style scoped>\n",
       "    .dataframe tbody tr th:only-of-type {\n",
       "        vertical-align: middle;\n",
       "    }\n",
       "\n",
       "    .dataframe tbody tr th {\n",
       "        vertical-align: top;\n",
       "    }\n",
       "\n",
       "    .dataframe thead th {\n",
       "        text-align: right;\n",
       "    }\n",
       "</style>\n",
       "<table border=\"1\" class=\"dataframe\">\n",
       "  <thead>\n",
       "    <tr style=\"text-align: right;\">\n",
       "      <th></th>\n",
       "      <th>Amazon</th>\n",
       "      <th>Google</th>\n",
       "    </tr>\n",
       "    <tr>\n",
       "      <th>Date</th>\n",
       "      <th></th>\n",
       "      <th></th>\n",
       "    </tr>\n",
       "  </thead>\n",
       "  <tbody>\n",
       "    <tr>\n",
       "      <th>2016-01-04</th>\n",
       "      <td>636.989990</td>\n",
       "      <td>37.150002</td>\n",
       "    </tr>\n",
       "    <tr>\n",
       "      <th>2016-01-05</th>\n",
       "      <td>633.789978</td>\n",
       "      <td>37.322498</td>\n",
       "    </tr>\n",
       "    <tr>\n",
       "      <th>2016-01-06</th>\n",
       "      <td>632.650024</td>\n",
       "      <td>36.500000</td>\n",
       "    </tr>\n",
       "    <tr>\n",
       "      <th>2016-01-07</th>\n",
       "      <td>607.940002</td>\n",
       "      <td>36.515499</td>\n",
       "    </tr>\n",
       "    <tr>\n",
       "      <th>2016-01-08</th>\n",
       "      <td>607.049988</td>\n",
       "      <td>36.572498</td>\n",
       "    </tr>\n",
       "  </tbody>\n",
       "</table>\n",
       "</div>"
      ],
      "text/plain": [
       "                Amazon     Google\n",
       "Date                             \n",
       "2016-01-04  636.989990  37.150002\n",
       "2016-01-05  633.789978  37.322498\n",
       "2016-01-06  632.650024  36.500000\n",
       "2016-01-07  607.940002  36.515499\n",
       "2016-01-08  607.049988  36.572498"
      ]
     },
     "execution_count": 5,
     "metadata": {},
     "output_type": "execute_result"
    }
   ],
   "source": [
    "# Now lets concatenate the Google and Amazon Data\n",
    "\n",
    "data = pd.concat([amazon, google], axis = 1)\n",
    "\n",
    "# lets also change the Name of Open Column to Google for better understanding\n",
    "data = data.rename(columns = {'Open':'Google'})\n",
    "\n",
    "# lets chek the shape and head\n",
    "print(\"Shape of the Dataset :\", data.shape)\n",
    "data.head()"
   ]
  },
  {
   "cell_type": "code",
   "execution_count": 6,
   "id": "cc9eb758-4643-4d9b-bf02-69911f9d330c",
   "metadata": {},
   "outputs": [
    {
     "name": "stdout",
     "output_type": "stream",
     "text": [
      "Shape of Benchmark Data : (252, 1)\n"
     ]
    }
   ],
   "source": [
    "# reading the benchmark data\n",
    "benchmark_data = pd.read_csv('benchmark_data.csv', \n",
    "                             parse_dates = True,\n",
    "                             index_col = ['Date'])\n",
    "\n",
    "# lets remove the Duplicates from the Data using dropna function\n",
    "benchmark_data = benchmark_data.dropna()\n",
    "\n",
    "# lets check the shape of the datasets again\n",
    "print(\"Shape of Benchmark Data :\", benchmark_data.shape)"
   ]
  },
  {
   "cell_type": "markdown",
   "id": "56c91816-2394-40d8-ae22-f2e0ec666767",
   "metadata": {},
   "source": [
    "## Calculate Daily Stock Returns"
   ]
  },
  {
   "cell_type": "code",
   "execution_count": null,
   "id": "8373798c-0bef-42c5-861d-a30b529ddf3e",
   "metadata": {},
   "outputs": [],
   "source": []
  },
  {
   "cell_type": "markdown",
   "id": "6fe6e2ca-2b04-4dd2-9ec1-47d48cdc0911",
   "metadata": {},
   "source": [
    "## Calculate Excess Returns"
   ]
  },
  {
   "cell_type": "code",
   "execution_count": null,
   "id": "954c5bca-fe12-494e-a0c0-077551d1b9c3",
   "metadata": {},
   "outputs": [],
   "source": []
  },
  {
   "cell_type": "markdown",
   "id": "64252127-1b2d-40b1-a917-ff6492e77572",
   "metadata": {},
   "source": [
    "## Calculate the Sharpe Ratio"
   ]
  },
  {
   "cell_type": "code",
   "execution_count": null,
   "id": "453a47d1-607c-4579-83ba-ac9e16c41c11",
   "metadata": {},
   "outputs": [],
   "source": []
  }
 ],
 "metadata": {
  "kernelspec": {
   "display_name": "Python 3 (ipykernel)",
   "language": "python",
   "name": "python3"
  },
  "language_info": {
   "codemirror_mode": {
    "name": "ipython",
    "version": 3
   },
   "file_extension": ".py",
   "mimetype": "text/x-python",
   "name": "python",
   "nbconvert_exporter": "python",
   "pygments_lexer": "ipython3",
   "version": "3.12.6"
  }
 },
 "nbformat": 4,
 "nbformat_minor": 5
}
